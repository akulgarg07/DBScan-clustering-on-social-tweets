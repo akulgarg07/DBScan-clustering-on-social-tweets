{
 "cells": [
  {
   "cell_type": "code",
   "execution_count": 1,
   "metadata": {},
   "outputs": [],
   "source": [
    "import json\n",
    "import csv\n",
    "import tweepy\n",
    "import re\n",
    "import numpy as np\n",
    "import pandas as pd\n",
    "import matplotlib.pyplot as plt\n",
    "\n",
    "from textblob import TextBlob\n",
    "from sklearn.cluster import DBSCAN \n",
    "from sklearn.preprocessing import StandardScaler \n",
    "from sklearn.preprocessing import normalize\n",
    "from sklearn import metrics"
   ]
  },
  {
   "cell_type": "code",
   "execution_count": 2,
   "metadata": {},
   "outputs": [],
   "source": [
    "def get_tweets(consumer_key, consumer_secret, access_token, access_token_secret, hashtag_phrase):\n",
    "    #auth\n",
    "    auth = tweepy.OAuthHandler(consumer_key, consumer_secret)\n",
    "    auth.set_access_token(access_token, access_token_secret)\n",
    "    \n",
    "    #init tweepy\n",
    "    api = tweepy.API(auth)\n",
    "    \n",
    "    #spreadsheet name to write to\n",
    "    fname = '_'.join(re.findall(r\"\\w+\", hashtag_phrase))\n",
    "    with open('%s.csv' %(fname), 'w') as file:\n",
    "        w = csv.writer(file)\n",
    "        #header\n",
    "        w.writerow(['timestamp','tweet_text','username', 'followers_count'])\n",
    "        for tweet in tweepy.Cursor(api.search, q=hashtag_phrase+\"-filter:retweets\", lang=\"en\", \n",
    "                                   tweet_mode=\"extended\").items(2000):\n",
    "            w.writerow([tweet.created_at,tweet.full_text.replace('\\n',' ').encode('utf-8'), \n",
    "                        tweet.user.screen_name.encode('utf-8'), tweet.user.followers_count])\n",
    "            \n",
    "def clean_tweet(tweet): \n",
    "    return ' '.join(re.sub(\"(@[A-Za-z0-9]+)|([^0-9A-Za-z \\t])|(\\w+:\\/\\/\\S+)\", \" \", tweet).split())\n",
    "\n",
    "def get_tweet_sentiment(tweet):\n",
    "    analysis = TextBlob(clean_tweet(tweet))\n",
    "    return analysis.sentiment.polarity"
   ]
  },
  {
   "cell_type": "code",
   "execution_count": 3,
   "metadata": {},
   "outputs": [
    {
     "name": "stdout",
     "output_type": "stream",
     "text": [
      "Hashtag Phrase narendramodi BJP\n"
     ]
    }
   ],
   "source": [
    "with open('api.json') as f:\n",
    "    api = json.load(f)\n",
    "consumer_key = api[\"Key\"]\n",
    "consumer_secret = api[\"Secret\"]\n",
    "access_token = api[\"Access Token\"]\n",
    "access_token_secret = api[\"Access Token Secret\"]\n",
    "\n",
    "hashtag_phrase = input('Hashtag Phrase ')\n",
    "\n",
    "if __name__ == '__main__':\n",
    "    get_tweets(consumer_key, consumer_secret, access_token, access_token_secret, hashtag_phrase)"
   ]
  },
  {
   "cell_type": "code",
   "execution_count": 4,
   "metadata": {},
   "outputs": [
    {
     "data": {
      "text/html": [
       "<div>\n",
       "<style scoped>\n",
       "    .dataframe tbody tr th:only-of-type {\n",
       "        vertical-align: middle;\n",
       "    }\n",
       "\n",
       "    .dataframe tbody tr th {\n",
       "        vertical-align: top;\n",
       "    }\n",
       "\n",
       "    .dataframe thead th {\n",
       "        text-align: right;\n",
       "    }\n",
       "</style>\n",
       "<table border=\"1\" class=\"dataframe\">\n",
       "  <thead>\n",
       "    <tr style=\"text-align: right;\">\n",
       "      <th></th>\n",
       "      <th>timestamp</th>\n",
       "      <th>tweet_text</th>\n",
       "      <th>username</th>\n",
       "      <th>followers_count</th>\n",
       "    </tr>\n",
       "  </thead>\n",
       "  <tbody>\n",
       "    <tr>\n",
       "      <td>0</td>\n",
       "      <td>2020-06-03 12:04:19</td>\n",
       "      <td>b'#gtu #BoycottGTUOfflineExams  @narendramodi ...</td>\n",
       "      <td>b'JoshiMohit6'</td>\n",
       "      <td>0</td>\n",
       "    </tr>\n",
       "    <tr>\n",
       "      <td>1</td>\n",
       "      <td>2020-06-03 12:04:17</td>\n",
       "      <td>b'@HRDMinistry @MIB_India @MIB_Hindi @PrakashJ...</td>\n",
       "      <td>b'SarvasvaTheGod'</td>\n",
       "      <td>182</td>\n",
       "    </tr>\n",
       "    <tr>\n",
       "      <td>2</td>\n",
       "      <td>2020-06-03 12:03:49</td>\n",
       "      <td>b'The BJP responds.   The people of Banaskanth...</td>\n",
       "      <td>b'HarjiChaudhary2'</td>\n",
       "      <td>9</td>\n",
       "    </tr>\n",
       "    <tr>\n",
       "      <td>3</td>\n",
       "      <td>2020-06-03 12:03:06</td>\n",
       "      <td>b\"@DeccanHerald @drashwathcn @akramtalk you ar...</td>\n",
       "      <td>b'realsachinh'</td>\n",
       "      <td>10</td>\n",
       "    </tr>\n",
       "    <tr>\n",
       "      <td>4</td>\n",
       "      <td>2020-06-03 12:02:06</td>\n",
       "      <td>b'@bold_views @ShivRajMathur1 @priyapyadav18 @...</td>\n",
       "      <td>b'mani24sjcpl'</td>\n",
       "      <td>375</td>\n",
       "    </tr>\n",
       "  </tbody>\n",
       "</table>\n",
       "</div>"
      ],
      "text/plain": [
       "             timestamp                                         tweet_text  \\\n",
       "0  2020-06-03 12:04:19  b'#gtu #BoycottGTUOfflineExams  @narendramodi ...   \n",
       "1  2020-06-03 12:04:17  b'@HRDMinistry @MIB_India @MIB_Hindi @PrakashJ...   \n",
       "2  2020-06-03 12:03:49  b'The BJP responds.   The people of Banaskanth...   \n",
       "3  2020-06-03 12:03:06  b\"@DeccanHerald @drashwathcn @akramtalk you ar...   \n",
       "4  2020-06-03 12:02:06  b'@bold_views @ShivRajMathur1 @priyapyadav18 @...   \n",
       "\n",
       "             username  followers_count  \n",
       "0      b'JoshiMohit6'                0  \n",
       "1   b'SarvasvaTheGod'              182  \n",
       "2  b'HarjiChaudhary2'                9  \n",
       "3      b'realsachinh'               10  \n",
       "4      b'mani24sjcpl'              375  "
      ]
     },
     "execution_count": 4,
     "metadata": {},
     "output_type": "execute_result"
    }
   ],
   "source": [
    "df = pd.read_csv('narendramodi_BJP.csv')\n",
    "df.head()"
   ]
  },
  {
   "cell_type": "code",
   "execution_count": 17,
   "metadata": {},
   "outputs": [
    {
     "data": {
      "text/html": [
       "<div>\n",
       "<style scoped>\n",
       "    .dataframe tbody tr th:only-of-type {\n",
       "        vertical-align: middle;\n",
       "    }\n",
       "\n",
       "    .dataframe tbody tr th {\n",
       "        vertical-align: top;\n",
       "    }\n",
       "\n",
       "    .dataframe thead th {\n",
       "        text-align: right;\n",
       "    }\n",
       "</style>\n",
       "<table border=\"1\" class=\"dataframe\">\n",
       "  <thead>\n",
       "    <tr style=\"text-align: right;\">\n",
       "      <th></th>\n",
       "      <th>sentiment</th>\n",
       "      <th>followers</th>\n",
       "    </tr>\n",
       "  </thead>\n",
       "  <tbody>\n",
       "    <tr>\n",
       "      <td>0</td>\n",
       "      <td>0.050000</td>\n",
       "      <td>0</td>\n",
       "    </tr>\n",
       "    <tr>\n",
       "      <td>1</td>\n",
       "      <td>0.150000</td>\n",
       "      <td>182</td>\n",
       "    </tr>\n",
       "    <tr>\n",
       "      <td>2</td>\n",
       "      <td>0.285714</td>\n",
       "      <td>9</td>\n",
       "    </tr>\n",
       "    <tr>\n",
       "      <td>3</td>\n",
       "      <td>0.200000</td>\n",
       "      <td>10</td>\n",
       "    </tr>\n",
       "    <tr>\n",
       "      <td>4</td>\n",
       "      <td>0.700000</td>\n",
       "      <td>375</td>\n",
       "    </tr>\n",
       "    <tr>\n",
       "      <td>...</td>\n",
       "      <td>...</td>\n",
       "      <td>...</td>\n",
       "    </tr>\n",
       "    <tr>\n",
       "      <td>1995</td>\n",
       "      <td>0.000000</td>\n",
       "      <td>577</td>\n",
       "    </tr>\n",
       "    <tr>\n",
       "      <td>1996</td>\n",
       "      <td>0.183333</td>\n",
       "      <td>847</td>\n",
       "    </tr>\n",
       "    <tr>\n",
       "      <td>1997</td>\n",
       "      <td>0.083333</td>\n",
       "      <td>771</td>\n",
       "    </tr>\n",
       "    <tr>\n",
       "      <td>1998</td>\n",
       "      <td>-0.150000</td>\n",
       "      <td>21</td>\n",
       "    </tr>\n",
       "    <tr>\n",
       "      <td>1999</td>\n",
       "      <td>0.000000</td>\n",
       "      <td>131</td>\n",
       "    </tr>\n",
       "  </tbody>\n",
       "</table>\n",
       "<p>2000 rows × 2 columns</p>\n",
       "</div>"
      ],
      "text/plain": [
       "      sentiment  followers\n",
       "0      0.050000          0\n",
       "1      0.150000        182\n",
       "2      0.285714          9\n",
       "3      0.200000         10\n",
       "4      0.700000        375\n",
       "...         ...        ...\n",
       "1995   0.000000        577\n",
       "1996   0.183333        847\n",
       "1997   0.083333        771\n",
       "1998  -0.150000         21\n",
       "1999   0.000000        131\n",
       "\n",
       "[2000 rows x 2 columns]"
      ]
     },
     "execution_count": 17,
     "metadata": {},
     "output_type": "execute_result"
    }
   ],
   "source": [
    "raw_tweets = df[['tweet_text', 'followers_count']]\n",
    "tweets = []\n",
    "for ind in df.index:\n",
    "    parsed_tweets = {}\n",
    "    text = df['tweet_text'][ind]\n",
    "    parsed_tweets['sentiment'] = get_tweet_sentiment(text)\n",
    "    parsed_tweets['followers'] = df['followers_count'][ind]\n",
    "    tweets.append(parsed_tweets)\n",
    "df2 = pd.DataFrame(tweets)\n",
    "df2"
   ]
  },
  {
   "cell_type": "code",
   "execution_count": 6,
   "metadata": {},
   "outputs": [
    {
     "data": {
      "text/plain": [
       "array([[-0.97171105, -0.23617288],\n",
       "       [ 0.98770567, -0.15632498],\n",
       "       [ 0.99880349, -0.04890384],\n",
       "       ...,\n",
       "       [-0.54823104, -0.83632693],\n",
       "       [-0.99919727, -0.0400601 ],\n",
       "       [-0.99432251, -0.10640844]])"
      ]
     },
     "execution_count": 6,
     "metadata": {},
     "output_type": "execute_result"
    }
   ],
   "source": [
    "scaler = StandardScaler()\n",
    "X_scaled = scaler.fit_transform(df2)\n",
    "X = normalize(X_scaled)\n",
    "X"
   ]
  },
  {
   "cell_type": "code",
   "execution_count": 16,
   "metadata": {},
   "outputs": [],
   "source": [
    "db = DBSCAN(eps = 0.25, min_samples = 3).fit(X)\n",
    "labels = db.labels_"
   ]
  },
  {
   "cell_type": "code",
   "execution_count": 8,
   "metadata": {},
   "outputs": [
    {
     "name": "stdout",
     "output_type": "stream",
     "text": [
      "0.8855452758043073\n"
     ]
    }
   ],
   "source": [
    "core_samples_mask = np.zeros_like(labels, dtype=bool)\n",
    "core_samples_mask[db.core_sample_indices_] = True\n",
    "n_clusters_ = len(set(labels))-(1 if -1 in labels else 0)\n",
    "print(metrics.silhouette_score(X, labels))"
   ]
  },
  {
   "cell_type": "code",
   "execution_count": 19,
   "metadata": {},
   "outputs": [],
   "source": [
    "def get_tweet_polarity(tweet):\n",
    "    analysis = TextBlob(clean_tweet(tweet))\n",
    "    if analysis.sentiment.polarity > 0:\n",
    "        return 'positive'\n",
    "    elif analysis.sentiment.polarity == 0:\n",
    "        return 'neutral'\n",
    "    else:\n",
    "        return 'negative'"
   ]
  },
  {
   "cell_type": "code",
   "execution_count": 33,
   "metadata": {},
   "outputs": [
    {
     "name": "stdout",
     "output_type": "stream",
     "text": [
      "Positive tweets percentage: 46.3%\n",
      "Negative tweets percentage: 21.85%\n",
      "Neutral tweets percentage: 31.85%\n"
     ]
    }
   ],
   "source": [
    "nT = len(df)\n",
    "nP = 0\n",
    "nM = 0\n",
    "nN = 0\n",
    "for row in df.index:\n",
    "    text = df['tweet_text'][row][1:]\n",
    "    if(get_tweet_polarity(text)=='positive'):\n",
    "        nP = nP+1\n",
    "    elif(get_tweet_polarity(text)=='negative'):\n",
    "        nM = nM+1\n",
    "    else:\n",
    "        nN = nN+1\n",
    "\n",
    "print(\"Positive tweets percentage: \" + str(round(100*nP/nT, 2)) + \"%\")\n",
    "print(\"Negative tweets percentage: \"+ str(round(100*nM/nT, 2)) + \"%\")\n",
    "print(\"Neutral tweets percentage: \" + str(round(100*(nT-nP-nM)/len(tweets), 2)) + \"%\")"
   ]
  },
  {
   "cell_type": "code",
   "execution_count": 10,
   "metadata": {},
   "outputs": [
    {
     "data": {
      "image/png": "[encoded data removed]",
      "text/plain": [
       "<Figure size 576x576 with 1 Axes>"
      ]
     },
     "metadata": {
      "needs_background": "light"
     },
     "output_type": "display_data"
    }
   ],
   "source": [
    "import matplotlib.pyplot as plt\n",
    "\n",
    "# Black removed and is used for noise instead.\n",
    "unique_labels = set(labels)\n",
    "colors = [plt.cm.Spectral(each) for each in np.linspace(0, 1, len(unique_labels))]\n",
    "plt.figure(figsize =(8, 8))\n",
    "for k, col in zip(unique_labels, colors):\n",
    "    if k == -1:\n",
    "        # Black used for noise.\n",
    "        col = [0, 0, 0, 1]\n",
    "\n",
    "    class_member_mask = (labels == k)\n",
    "\n",
    "    xy = X[class_member_mask & core_samples_mask]\n",
    "    plt.plot(xy[:, 0], xy[:, 1], 'o', markerfacecolor=tuple(col), markeredgecolor='k', markersize=14)\n",
    "\n",
    "    xy = X[class_member_mask & ~core_samples_mask]\n",
    "    plt.plot(xy[:, 0], xy[:, 1], 'o', markerfacecolor=tuple(col), markeredgecolor='k', markersize=6)\n",
    "\n",
    "plt.title('Estimated number of clusters: %d' % n_clusters_)\n",
    "plt.tight_layout()\n",
    "plt.show()"
   ]
  }
 ],
 "metadata": {
  "kernelspec": {
   "display_name": "Python 3",
   "language": "python",
   "name": "python3"
  },
  "language_info": {
   "codemirror_mode": {
    "name": "ipython",
    "version": 3
   },
   "file_extension": ".py",
   "mimetype": "text/x-python",
   "name": "python",
   "nbconvert_exporter": "python",
   "pygments_lexer": "ipython3",
   "version": "3.7.4"
  }
 },
 "nbformat": 4,
 "nbformat_minor": 2
}
